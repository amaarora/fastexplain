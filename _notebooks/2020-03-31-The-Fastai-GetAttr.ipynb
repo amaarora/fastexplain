{
 "cells": [
  {
   "cell_type": "markdown",
   "metadata": {},
   "source": [
    "# The Fastai `GetAttr` class \n",
    "> And some examples. As a summary, the `GetAttr` class passes `getattr` lookup to `cls._default` where `cls` inherits from `GetAttr`.\n",
    "- toc: true\n",
    "- badges: true\n",
    "- comments: true\n",
    "- author: Aman Arora"
   ]
  },
  {
   "cell_type": "markdown",
   "metadata": {},
   "source": [
    "Let's check the `GetAttr` source code:"
   ]
  },
  {
   "cell_type": "code",
   "execution_count": 2,
   "metadata": {},
   "outputs": [],
   "source": [
    "class GetAttr:\n",
    "    \"Inherit from this to have all attr accesses in `self._xtra` passed down to `self.default`\"\n",
    "    _default='default'\n",
    "    def _component_attr_filter(self,k):\n",
    "        if k.startswith('__') or k in ('_xtra',self._default): return False\n",
    "        xtra = getattr(self,'_xtra',None)\n",
    "        return xtra is None or k in xtra\n",
    "    def _dir(self): return [k for k in dir(getattr(self,self._default)) if self._component_attr_filter(k)]\n",
    "    def __getattr__(self,k):\n",
    "        if self._component_attr_filter(k):\n",
    "            attr = getattr(self,self._default,None)\n",
    "            if attr is not None: return getattr(attr,k)\n",
    "        raise AttributeError(k)\n",
    "    def __dir__(self): return custom_dir(self,self._dir())\n",
    "#     def __getstate__(self): return self.__dict__\n",
    "    def __setstate__(self,data): self.__dict__.update(data)"
   ]
  },
  {
   "cell_type": "markdown",
   "metadata": {},
   "source": [
    "The `_component_attr_filter` checks if the attribute being looked for is not starting with '__' (dunder thingies) or called '_xtra' or `self._default`. If it's either of these, return value is False. "
   ]
  },
  {
   "cell_type": "markdown",
   "metadata": {},
   "source": [
    "Otherwise, if there is some attribute `_xtra` defined inside the class, then the return is `True` if `k` exists in `_xtra`. OR, return is also `True` if `xtra` is None. "
   ]
  },
  {
   "cell_type": "markdown",
   "metadata": {},
   "source": [
    "Essentially, a call to `_component_attr_filter` returns True if `self._xtra` is None or `k` is part of `self._xtra`. It returns `False` if the attribute being looked for is one of dunder thingies or one of `self._xtra` or `self._default`."
   ]
  },
  {
   "cell_type": "markdown",
   "metadata": {},
   "source": [
    "Finally, when a call to `__getattr__` is made, first we check for the attribute `self._default` if `_component_attr_filter` returns `True`. Next, we look for the attribute `k` being looked inside the `self._default` attribute thus, passing the `getattr` to the class's own attr `self._default`. "
   ]
  },
  {
   "cell_type": "markdown",
   "metadata": {},
   "source": [
    "Let's see an example:"
   ]
  },
  {
   "cell_type": "code",
   "execution_count": 10,
   "metadata": {},
   "outputs": [],
   "source": [
    "class Robot:\n",
    "    name = \"IRobot\"\n",
    "    \n",
    "class Hand(GetAttr):\n",
    "    _default = \"robot\"\n",
    "    def __init__(self): self.robot = Robot"
   ]
  },
  {
   "cell_type": "code",
   "execution_count": 11,
   "metadata": {},
   "outputs": [
    {
     "data": {
      "text/plain": [
       "'IRobot'"
      ]
     },
     "execution_count": 11,
     "metadata": {},
     "output_type": "execute_result"
    }
   ],
   "source": [
    "hand = Hand()\n",
    "hand.name"
   ]
  },
  {
   "cell_type": "markdown",
   "metadata": {},
   "source": [
    "Even the attribute `name` didn't exist in `Hand` class, we still get the value 'IRobot' because this class inherits from `GetAttr` and passes the attribute lookup down to `self._default` class which in this case is `self.robot`."
   ]
  },
  {
   "cell_type": "markdown",
   "metadata": {},
   "source": [
    "One of the classes that inherits `GetAttr` is `DataLoader` and `_default` is set to `dataset` which generally is `DataSets`. "
   ]
  },
  {
   "cell_type": "code",
   "execution_count": 12,
   "metadata": {},
   "outputs": [],
   "source": [
    "path = untar_data(URLs.MNIST_TINY)\n",
    "dset = Datasets(get_image_files(path))\n",
    "dl = DataLoader(dset)"
   ]
  },
  {
   "cell_type": "markdown",
   "metadata": {},
   "source": [
    "Now let's have a look at `dataloaders` method. This returns a `bound method FilteredBase` which actually `DataSets` inherits from. "
   ]
  },
  {
   "cell_type": "markdown",
   "metadata": {},
   "source": [
    "As can be seen from the `MRO` below: "
   ]
  },
  {
   "cell_type": "code",
   "execution_count": 15,
   "metadata": {},
   "outputs": [
    {
     "data": {
      "text/plain": [
       "(fastai2.data.core.Datasets, fastai2.data.core.FilteredBase, object)"
      ]
     },
     "execution_count": 15,
     "metadata": {},
     "output_type": "execute_result"
    }
   ],
   "source": [
    "Datasets.__mro__"
   ]
  },
  {
   "cell_type": "markdown",
   "metadata": {},
   "source": [
    "But, this method is made available to `DataLoader` because `_default` was set to `DataSets` and this is due to the magic of `GetAttr`. "
   ]
  },
  {
   "cell_type": "code",
   "execution_count": 14,
   "metadata": {},
   "outputs": [
    {
     "data": {
      "text/plain": [
       "<bound method FilteredBase.dataloaders of (#1428) [(Path('/home/ubuntu/.fastai/data/mnist_tiny/valid/7/7565.png'),),(Path('/home/ubuntu/.fastai/data/mnist_tiny/valid/7/7445.png'),),(Path('/home/ubuntu/.fastai/data/mnist_tiny/valid/7/9169.png'),),(Path('/home/ubuntu/.fastai/data/mnist_tiny/valid/7/7924.png'),),(Path('/home/ubuntu/.fastai/data/mnist_tiny/valid/7/7197.png'),),(Path('/home/ubuntu/.fastai/data/mnist_tiny/valid/7/7300.png'),),(Path('/home/ubuntu/.fastai/data/mnist_tiny/valid/7/9024.png'),),(Path('/home/ubuntu/.fastai/data/mnist_tiny/valid/7/9816.png'),),(Path('/home/ubuntu/.fastai/data/mnist_tiny/valid/7/7180.png'),),(Path('/home/ubuntu/.fastai/data/mnist_tiny/valid/7/9515.png'),)...]>"
      ]
     },
     "execution_count": 14,
     "metadata": {},
     "output_type": "execute_result"
    }
   ],
   "source": [
    "dl.dataloaders"
   ]
  }
 ],
 "metadata": {
  "kernelspec": {
   "display_name": "Python 3",
   "language": "python",
   "name": "python3"
  },
  "language_info": {
   "codemirror_mode": {
    "name": "ipython",
    "version": 3
   },
   "file_extension": ".py",
   "mimetype": "text/x-python",
   "name": "python",
   "nbconvert_exporter": "python",
   "pygments_lexer": "ipython3",
   "version": "3.6.9"
  },
  "toc": {
   "base_numbering": 1,
   "nav_menu": {},
   "number_sections": true,
   "sideBar": true,
   "skip_h1_title": false,
   "title_cell": "Table of Contents",
   "title_sidebar": "Contents",
   "toc_cell": false,
   "toc_position": {},
   "toc_section_display": true,
   "toc_window_display": false
  }
 },
 "nbformat": 4,
 "nbformat_minor": 2
}
